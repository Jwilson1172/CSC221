{
 "cells": [
  {
   "cell_type": "code",
   "execution_count": 1,
   "metadata": {},
   "outputs": [
    {
     "name": "stdout",
     "output_type": "stream",
     "text": [
      "The number is 40\n"
     ]
    }
   ],
   "source": [
    "num1 = 20\n",
    "if num1 == 21:\n",
    "    print(\"The number is 21\")\n",
    "elif num1 == 20:\n",
    "    num1 = num1 + 20\n",
    "    print(\"The number is 40\")\n",
    "else:\n",
    "    num1 = num1 + 21\n",
    "    print(\"The number is 41\")"
   ]
  },
  {
   "cell_type": "code",
   "execution_count": 2,
   "metadata": {},
   "outputs": [
    {
     "name": "stdout",
     "output_type": "stream",
     "text": [
      "Iteration\n",
      "Iteration\n"
     ]
    }
   ],
   "source": [
    "i = 2\n",
    "while i <= 5:\n",
    "    print(\"Iteration\")\n",
    "    i = i + 2"
   ]
  },
  {
   "cell_type": "code",
   "execution_count": 3,
   "metadata": {},
   "outputs": [
    {
     "name": "stdout",
     "output_type": "stream",
     "text": [
      "0\n"
     ]
    }
   ],
   "source": [
    "print(20%4)"
   ]
  },
  {
   "cell_type": "code",
   "execution_count": 4,
   "metadata": {},
   "outputs": [
    {
     "data": {
      "text/plain": [
       "33"
      ]
     },
     "execution_count": 4,
     "metadata": {},
     "output_type": "execute_result"
    }
   ],
   "source": [
    "7 * 5 + 3 - 5"
   ]
  },
  {
   "cell_type": "code",
   "execution_count": 7,
   "metadata": {},
   "outputs": [
    {
     "name": "stdout",
     "output_type": "stream",
     "text": [
      "loop has run 1 time(s).\n",
      "loop has run 2 time(s).\n",
      "loop has run 3 time(s).\n",
      "loop has run 4 time(s).\n",
      "loop has run 5 time(s).\n",
      "loop has run 6 time(s).\n",
      "loop has run 7 time(s).\n",
      "loop has run 8 time(s).\n",
      "loop has run 9 time(s).\n",
      "loop has run 10 time(s).\n"
     ]
    }
   ],
   "source": [
    "for i in range(10):\n",
    "    print(\"loop has run \" + str(i+1) + \" time(s).\")"
   ]
  },
  {
   "cell_type": "code",
   "execution_count": null,
   "metadata": {},
   "outputs": [],
   "source": [
    "for i in range(10):\n",
    "    print(\"loop has run \" + str(i+1) + \" time(s).\")"
   ]
  }
 ],
 "metadata": {
  "kernelspec": {
   "display_name": "Python 3.8.13 ('ds')",
   "language": "python",
   "name": "python3"
  },
  "language_info": {
   "codemirror_mode": {
    "name": "ipython",
    "version": 3
   },
   "file_extension": ".py",
   "mimetype": "text/x-python",
   "name": "python",
   "nbconvert_exporter": "python",
   "pygments_lexer": "ipython3",
   "version": "3.8.13"
  },
  "orig_nbformat": 4,
  "vscode": {
   "interpreter": {
    "hash": "3e0f24a574f3a378835f40acf4ab3716497fe99d156662e9c4ddb6dbcbfd1c77"
   }
  }
 },
 "nbformat": 4,
 "nbformat_minor": 2
}
