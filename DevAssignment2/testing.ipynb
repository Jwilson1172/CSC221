{
 "cells": [
  {
   "cell_type": "code",
   "execution_count": 1,
   "metadata": {},
   "outputs": [],
   "source": [
    "from DA2 import Box"
   ]
  },
  {
   "cell_type": "code",
   "execution_count": 5,
   "metadata": {},
   "outputs": [
    {
     "name": "stdout",
     "output_type": "stream",
     "text": [
      "Volume = 6.0\n",
      "Area = 22.0\n",
      "Girth and Depth = 9.0\n"
     ]
    }
   ],
   "source": [
    "while True:\n",
    "    # store input from user in throw away\n",
    "    _ = input()\n",
    "    \n",
    "    # check brake condition\n",
    "    if _.lower()[0] == 'q':\n",
    "        break\n",
    "\n",
    "    # make sure that we have the right amount of inputs\n",
    "    assert len(_[1:].strip().split()) == 3\n",
    "\n",
    "    # remove command character from input then strip\n",
    "    # leading lagging whitespace and split input values into their\n",
    "    # respective variables\n",
    "    l,w,d = _[1:].strip().split(sep=' ')\n",
    "    \n",
    "    # cast to float\n",
    "    l,w,d = float(l), float(w), float(d)\n",
    "\n",
    "    # print exspected output\n",
    "    print(Box(l,w,d))\n",
    "\n",
    "    \n"
   ]
  },
  {
   "cell_type": "code",
   "execution_count": 5,
   "metadata": {},
   "outputs": [
    {
     "name": "stdout",
     "output_type": "stream",
     "text": [
      "Volume = 6\n",
      "Area = 22\n",
      "Girth and Depth = 9\n"
     ]
    }
   ],
   "source": []
  },
  {
   "cell_type": "code",
   "execution_count": null,
   "metadata": {},
   "outputs": [],
   "source": []
  }
 ],
 "metadata": {
  "kernelspec": {
   "display_name": "Python 3.8.13 ('ds')",
   "language": "python",
   "name": "python3"
  },
  "language_info": {
   "codemirror_mode": {
    "name": "ipython",
    "version": 3
   },
   "file_extension": ".py",
   "mimetype": "text/x-python",
   "name": "python",
   "nbconvert_exporter": "python",
   "pygments_lexer": "ipython3",
   "version": "3.8.13"
  },
  "orig_nbformat": 4,
  "vscode": {
   "interpreter": {
    "hash": "3e0f24a574f3a378835f40acf4ab3716497fe99d156662e9c4ddb6dbcbfd1c77"
   }
  }
 },
 "nbformat": 4,
 "nbformat_minor": 2
}
